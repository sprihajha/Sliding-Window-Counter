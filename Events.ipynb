{
 "cells": [
  {
   "cell_type": "code",
   "execution_count": 141,
   "metadata": {},
   "outputs": [],
   "source": [
    "from collections import deque\n",
    "import datetime\n",
    "import sqlite3\n",
    "\n",
    "# Make the connection to the database\n",
    "db = sqlite3.connect('/Users/sprihajha/events.db')\n",
    "c = db.cursor()\n",
    "\n",
    "#Execute the first time - to create table\n",
    "\n",
    "# c.execute('''CREATE TABLE events(timestamp REAL)''')\n"
   ]
  },
  {
   "cell_type": "code",
   "execution_count": 142,
   "metadata": {},
   "outputs": [
    {
     "name": "stdout",
     "output_type": "stream",
     "text": [
      "done\n"
     ]
    }
   ],
   "source": [
    "#Creating a Queue\n",
    "queue = deque([])\n",
    "\n",
    "#Incrementing events to the Queue\n",
    "def increment():\n",
    "    for i in range(100):\n",
    "        event_time = datetime.datetime.now()\n",
    "        queue.append(event_time)\n",
    "    return (print('done')) #Added the events to the queue\n",
    " \n",
    "increment()\n",
    "\n",
    "#Printing the elements of the Queue\n",
    "# print(queue)"
   ]
  },
  {
   "cell_type": "code",
   "execution_count": 143,
   "metadata": {},
   "outputs": [
    {
     "name": "stdout",
     "output_type": "stream",
     "text": [
      "Inserted\n",
      "Removed\n"
     ]
    }
   ],
   "source": [
    "#Dumping the events into the database\n",
    "for i in range(0,len(queue)):\n",
    "    c.execute('''INSERT INTO events(timestamp) VALUES(?)''', (queue[i],))\n",
    "\n",
    "print(\"Inserted\")\n",
    "\n",
    "#Removing the events from the queue\n",
    "for i in range(0,len(queue)):\n",
    "    queue.popleft()\n",
    "\n",
    "print(\"Removed\")\n",
    "\n",
    "db.commit()"
   ]
  },
  {
   "cell_type": "code",
   "execution_count": 144,
   "metadata": {},
   "outputs": [],
   "source": [
    "# c.execute('''SELECT timestamp FROM events''')\n",
    "# time1 = c.fetchall() #retrieve the first row\n",
    "# print((time1))"
   ]
  },
  {
   "cell_type": "code",
   "execution_count": 145,
   "metadata": {},
   "outputs": [
    {
     "data": {
      "text/plain": [
       "0"
      ]
     },
     "execution_count": 145,
     "metadata": {},
     "output_type": "execute_result"
    }
   ],
   "source": [
    "#Check count of events in Last Second\n",
    "def numLastSecond():\n",
    "    end = str(datetime.datetime.now()) \n",
    "    start = str(datetime.datetime.now() - datetime.timedelta(seconds = 1))\n",
    "\n",
    "    c.execute('''SELECT timestamp FROM events WHERE timestamp BETWEEN (?) AND (?)''', (start, end,))\n",
    "    time2 = c.fetchall()\n",
    "#     print(time2)\n",
    "    return len(time2)\n",
    "\n",
    "numLastSecond()"
   ]
  },
  {
   "cell_type": "code",
   "execution_count": 146,
   "metadata": {},
   "outputs": [
    {
     "data": {
      "text/plain": [
       "100"
      ]
     },
     "execution_count": 146,
     "metadata": {},
     "output_type": "execute_result"
    }
   ],
   "source": [
    "#Check count of events in Last Minute\n",
    "def numLastMinute():\n",
    "    end = str(datetime.datetime.now()) \n",
    "    start = str(datetime.datetime.now() - datetime.timedelta(minutes = 1))\n",
    "\n",
    "    c.execute('''SELECT timestamp FROM events WHERE timestamp BETWEEN (?) AND (?)''', (start, end,))\n",
    "    time2 = c.fetchall()\n",
    "#     print(time2)\n",
    "    return len(time2)\n",
    "\n",
    "numLastMinute()"
   ]
  },
  {
   "cell_type": "code",
   "execution_count": 147,
   "metadata": {},
   "outputs": [
    {
     "data": {
      "text/plain": [
       "600"
      ]
     },
     "execution_count": 147,
     "metadata": {},
     "output_type": "execute_result"
    }
   ],
   "source": [
    "#Check count of events in Last Hour\n",
    "def numLastHour():\n",
    "    end = str(datetime.datetime.now()) \n",
    "    start = str(datetime.datetime.now() - datetime.timedelta(hours = 1))\n",
    "\n",
    "    c.execute('''SELECT timestamp FROM events WHERE timestamp BETWEEN (?) AND (?)''', (start, end,))\n",
    "    time2 = c.fetchall()\n",
    "#     print(time2)\n",
    "    return len(time2)\n",
    "\n",
    "numLastHour()"
   ]
  },
  {
   "cell_type": "code",
   "execution_count": null,
   "metadata": {},
   "outputs": [],
   "source": [
    "#SKELETON\n",
    "# def numLastTIME():\n",
    "#     end = str(datetime.datetime.now()) \n",
    "#     start = str(datetime.datetime.now() - datetime.timedelta(REPLACE HERE--ARGUMENT))\n",
    "# A timedelta object has the following available options: days=0, seconds=0, microseconds=0, milliseconds=0, minutes=0, hours=0, weeks=0\n",
    "# Replace the argument with the desired duration.\n",
    "#     c.execute('''SELECT timestamp FROM events WHERE timestamp BETWEEN (?) AND (?)''', (start, end,))\n",
    "#     time2 = c.fetchall()\n",
    "# #     print(time2)\n",
    "#     return len(time2)\n",
    "\n",
    "# numLastTIME()"
   ]
  }
 ],
 "metadata": {
  "kernelspec": {
   "display_name": "Python 3",
   "language": "python",
   "name": "python3"
  },
  "language_info": {
   "codemirror_mode": {
    "name": "ipython",
    "version": 3
   },
   "file_extension": ".py",
   "mimetype": "text/x-python",
   "name": "python",
   "nbconvert_exporter": "python",
   "pygments_lexer": "ipython3",
   "version": "3.5.5"
  }
 },
 "nbformat": 4,
 "nbformat_minor": 2
}
